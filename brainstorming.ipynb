{
 "cells": [
  {
   "cell_type": "code",
   "execution_count": null,
   "metadata": {},
   "outputs": [],
   "source": [
    "'''\n",
    "GOAL: 99% **TEST** ACCURACY\n",
    "'''\n",
    "\n",
    "# TODO: explore different architectures, data augmentation and regularization methods to determine a suitable range of parameters\n",
    "# TODO: use optuna to explore the hyperparameter space\n",
    "# TODO: report final hyperparameter values and test accuracy\n",
    "\n",
    "# SUBMIT:\n",
    "# TODO: \"informed discussion\" of approach to hyperparameter exploration / observations\n",
    "# TODO: submit use of optuna code\n",
    "# TODO: final performance of model\n",
    "# TODO: discussion of limitations of not using a separate validation set"
   ]
  }
 ],
 "metadata": {
  "kernelspec": {
   "display_name": "assignment2-env",
   "language": "python",
   "name": "python3"
  },
  "language_info": {
   "name": "python",
   "version": "3.11.5"
  },
  "orig_nbformat": 4
 },
 "nbformat": 4,
 "nbformat_minor": 2
}
